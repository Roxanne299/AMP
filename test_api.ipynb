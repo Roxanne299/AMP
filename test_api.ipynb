{
 "cells": [
  {
   "cell_type": "code",
   "execution_count": null,
   "id": "db4c665e",
   "metadata": {
    "ExecuteTime": {
     "end_time": "2023-03-22T06:32:50.633852Z",
     "start_time": "2023-03-22T06:32:50.285178Z"
    },
    "pycharm": {
     "is_executing": true
    }
   },
   "outputs": [],
   "source": [
    "import public_timeseries_testing_util\n",
    "\n",
    "env = public_timeseries_testing_util.make_env()\n",
    "iter_test = env.iter_test()\n",
    "\n",
    "counter = 0\n",
    "# The API will deliver four dataframes in this specific order:\n",
    "for (test, test_peptides, test_proteins, sample_submission) in iter_test:\n",
    "    if counter == 0:\n",
    "        print(test.head())\n",
    "        print(test_peptides.head())\n",
    "        print(test_proteins.head())\n",
    "        print(sample_submission.head())\n",
    "        sample_submission['rating'] = 0\n",
    "    env.predict(sample_submission)\n",
    "    counter += 1"
   ]
  },
  {
   "cell_type": "code",
   "execution_count": null,
   "id": "52b25e2a",
   "metadata": {},
   "outputs": [],
   "source": []
  }
 ],
 "metadata": {
  "kernelspec": {
   "display_name": "Python 3 (ipykernel)",
   "language": "python",
   "name": "python3"
  },
  "language_info": {
   "codemirror_mode": {
    "name": "ipython",
    "version": 3
   },
   "file_extension": ".py",
   "mimetype": "text/x-python",
   "name": "python",
   "nbconvert_exporter": "python",
   "pygments_lexer": "ipython3",
   "version": "3.8.13"
  }
 },
 "nbformat": 4,
 "nbformat_minor": 5
}
