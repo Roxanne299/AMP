{
 "cells": [
  {
   "cell_type": "code",
   "execution_count": 2,
   "id": "db4c665e",
   "metadata": {
    "ExecuteTime": {
     "end_time": "2023-03-27T04:34:49.092866Z",
     "start_time": "2023-03-27T04:34:49.054796Z"
    },
    "pycharm": {
     "is_executing": true
    }
   },
   "outputs": [
    {
     "name": "stdout",
     "output_type": "stream",
     "text": [
      "          visit_id  visit_month  patient_id updrs_test           row_id\n",
      "group_key                                                              \n",
      "0           3342_0            0        3342    updrs_1   3342_0_updrs_1\n",
      "0           3342_0            0        3342    updrs_2   3342_0_updrs_2\n",
      "0           3342_0            0        3342    updrs_3   3342_0_updrs_3\n",
      "0           3342_0            0        3342    updrs_4   3342_0_updrs_4\n",
      "0          50423_0            0       50423    updrs_1  50423_0_updrs_1\n",
      "          visit_id  visit_month  patient_id UniProt  \\\n",
      "group_key                                             \n",
      "0          50423_0            0       50423  O00391   \n",
      "0          50423_0            0       50423  O00391   \n",
      "0          50423_0            0       50423  O00533   \n",
      "0          50423_0            0       50423  O00533   \n",
      "0          50423_0            0       50423  O00533   \n",
      "\n",
      "                                          Peptide  PeptideAbundance  \n",
      "group_key                                                            \n",
      "0                            AHFSPSNIILDFPAAGSAAR           22226.3  \n",
      "0                                   NEQEQPLGQWHLS           10901.6  \n",
      "0                                     GNPEPTFSWTK           51499.4  \n",
      "0                                 IEIPSSVQQVPTIIK          125492.0  \n",
      "0          KPQSAVYSTGSNGILLC(UniMod_4)EAEGEPQPTIK           23174.2  \n",
      "          visit_id  visit_month  patient_id UniProt        NPX\n",
      "group_key                                                     \n",
      "0          50423_0            0       50423  O00391   33127.90\n",
      "0          50423_0            0       50423  O00533  490742.00\n",
      "0          50423_0            0       50423  O00584   43615.30\n",
      "0          50423_0            0       50423  O14773   16486.60\n",
      "0          50423_0            0       50423  O14791    2882.42\n",
      "                           prediction_id  rating\n",
      "group_key                                       \n",
      "0           3342_0_updrs_1_plus_0_months       0\n",
      "0           3342_0_updrs_1_plus_6_months       0\n",
      "0          3342_0_updrs_1_plus_12_months       0\n",
      "0          3342_0_updrs_1_plus_24_months       0\n",
      "0           3342_0_updrs_2_plus_0_months       0\n"
     ]
    }
   ],
   "source": [
    "import public_timeseries_testing_util\n",
    "\n",
    "env = public_timeseries_testing_util.make_env()\n",
    "iter_test = env.iter_test()\n",
    "\n",
    "counter = 0\n",
    "# The API will deliver four dataframes in this specific order:\n",
    "for (test, test_peptides, test_proteins, sample_submission) in iter_test:\n",
    "    if counter == 0:\n",
    "        print(test.head())\n",
    "        print(test_peptides.head())\n",
    "        print(test_proteins.head())\n",
    "        print(sample_submission.head())\n",
    "        sample_submission['rating'] = 0\n",
    "    env.predict(sample_submission)\n",
    "    counter += 1"
   ]
  },
  {
   "cell_type": "code",
   "execution_count": 1,
   "id": "52b25e2a",
   "metadata": {
    "ExecuteTime": {
     "end_time": "2023-04-01T10:29:45.327848Z",
     "start_time": "2023-04-01T10:29:44.758898Z"
    }
   },
   "outputs": [],
   "source": [
    "import numpy as np\n",
    "import pandas as pd\n",
    "import matplotlib.pyplot as plt\n",
    "import seaborn as sns"
   ]
  },
  {
   "cell_type": "code",
   "execution_count": 2,
   "id": "23addb48",
   "metadata": {
    "ExecuteTime": {
     "end_time": "2023-04-01T10:29:54.393661Z",
     "start_time": "2023-04-01T10:29:54.295484Z"
    }
   },
   "outputs": [
    {
     "name": "stdout",
     "output_type": "stream",
     "text": [
      "proteins shape:  (232741, 5)\n"
     ]
    },
    {
     "data": {
      "text/html": [
       "<div>\n",
       "<style scoped>\n",
       "    .dataframe tbody tr th:only-of-type {\n",
       "        vertical-align: middle;\n",
       "    }\n",
       "\n",
       "    .dataframe tbody tr th {\n",
       "        vertical-align: top;\n",
       "    }\n",
       "\n",
       "    .dataframe thead th {\n",
       "        text-align: right;\n",
       "    }\n",
       "</style>\n",
       "<table border=\"1\" class=\"dataframe\">\n",
       "  <thead>\n",
       "    <tr style=\"text-align: right;\">\n",
       "      <th></th>\n",
       "      <th>visit_id</th>\n",
       "      <th>visit_month</th>\n",
       "      <th>patient_id</th>\n",
       "      <th>UniProt</th>\n",
       "      <th>NPX</th>\n",
       "    </tr>\n",
       "  </thead>\n",
       "  <tbody>\n",
       "    <tr>\n",
       "      <th>0</th>\n",
       "      <td>55_0</td>\n",
       "      <td>0</td>\n",
       "      <td>55</td>\n",
       "      <td>O00391</td>\n",
       "      <td>11254.3</td>\n",
       "    </tr>\n",
       "    <tr>\n",
       "      <th>1</th>\n",
       "      <td>55_0</td>\n",
       "      <td>0</td>\n",
       "      <td>55</td>\n",
       "      <td>O00533</td>\n",
       "      <td>732430.0</td>\n",
       "    </tr>\n",
       "    <tr>\n",
       "      <th>2</th>\n",
       "      <td>55_0</td>\n",
       "      <td>0</td>\n",
       "      <td>55</td>\n",
       "      <td>O00584</td>\n",
       "      <td>39585.8</td>\n",
       "    </tr>\n",
       "    <tr>\n",
       "      <th>3</th>\n",
       "      <td>55_0</td>\n",
       "      <td>0</td>\n",
       "      <td>55</td>\n",
       "      <td>O14498</td>\n",
       "      <td>41526.9</td>\n",
       "    </tr>\n",
       "    <tr>\n",
       "      <th>4</th>\n",
       "      <td>55_0</td>\n",
       "      <td>0</td>\n",
       "      <td>55</td>\n",
       "      <td>O14773</td>\n",
       "      <td>31238.0</td>\n",
       "    </tr>\n",
       "  </tbody>\n",
       "</table>\n",
       "</div>"
      ],
      "text/plain": [
       "  visit_id  visit_month  patient_id UniProt       NPX\n",
       "0     55_0            0          55  O00391   11254.3\n",
       "1     55_0            0          55  O00533  732430.0\n",
       "2     55_0            0          55  O00584   39585.8\n",
       "3     55_0            0          55  O14498   41526.9\n",
       "4     55_0            0          55  O14773   31238.0"
      ]
     },
     "execution_count": 2,
     "metadata": {},
     "output_type": "execute_result"
    }
   ],
   "source": [
    "proteins = pd.read_csv(\"./train_proteins.csv\")\n",
    "print('proteins shape: ',proteins.shape)\n",
    "proteins.head()"
   ]
  },
  {
   "cell_type": "code",
   "execution_count": 12,
   "id": "930e7f27",
   "metadata": {
    "ExecuteTime": {
     "end_time": "2023-04-01T10:36:51.271636Z",
     "start_time": "2023-04-01T10:36:49.192676Z"
    }
   },
   "outputs": [],
   "source": [
    "# 假设您的 DataFrame 叫做 df\n",
    "unique_proteins = proteins['UniProt'].unique()\n",
    "\n",
    "# 创建一个空字典来存储每个蛋白质的计数\n",
    "protein_counts = {}\n",
    "\n",
    "# 计算每个蛋白质出现的次数\n",
    "for protein in unique_proteins:\n",
    "    protein_counts[protein] = proteins[proteins['UniProt'] == protein]['visit_id'].count()"
   ]
  },
  {
   "cell_type": "code",
   "execution_count": 13,
   "id": "a95b6cf5",
   "metadata": {
    "ExecuteTime": {
     "end_time": "2023-04-01T10:37:03.155990Z",
     "start_time": "2023-04-01T10:36:52.829912Z"
    }
   },
   "outputs": [],
   "source": [
    "# 创建一个空字典来存储每个病人的数据\n",
    "patient_data = {}\n",
    "\n",
    "# 获取独特的病人 ID\n",
    "unique_patients = proteins['patient_id'].unique()\n",
    "\n",
    "# 计算每个病人的数据\n",
    "for patient in unique_patients[0:5]:\n",
    "    patient_data[patient] = []\n",
    "    for protein in unique_proteins:\n",
    "        count = proteins[(proteins['UniProt'] == protein) & (proteins['patient_id'] == patient)]['visit_id'].count()\n",
    "        patient_data[patient].append(count)"
   ]
  },
  {
   "cell_type": "code",
   "execution_count": 61,
   "id": "857d79e7",
   "metadata": {
    "ExecuteTime": {
     "end_time": "2023-04-01T12:58:18.743607Z",
     "start_time": "2023-04-01T12:58:18.609958Z"
    }
   },
   "outputs": [
    {
     "data": {
      "image/png": "[encoded data removed]",
      "text/plain": [
       "<Figure size 640x480 with 1 Axes>"
      ]
     },
     "metadata": {},
     "output_type": "display_data"
    },
    {
     "data": {
      "text/plain": [
       "array(['O00391', 'O00533', 'O00584', 'O14498', 'O14773', 'O14791',\n",
       "       'O15240', 'O15394', 'O43505', 'O60888', 'O75144', 'O75326',\n",
       "       'O94919', 'P00441', 'P00450', 'P00734', 'P00736', 'P00738',\n",
       "       'P00746', 'P00747', 'P00748', 'P00751', 'P01008', 'P01009',\n",
       "       'P01011', 'P01019', 'P01023', 'P01024', 'P01031', 'P01033',\n",
       "       'P01034', 'P01042', 'P01344', 'P01591', 'P01608', 'P01621',\n",
       "       'P01717', 'P01780', 'P01833', 'P01834', 'P01857', 'P01859',\n",
       "       'P01860', 'P01861', 'P01876', 'P01877', 'P02452', 'P02647',\n",
       "       'P02649', 'P02652', 'P02655', 'P02656', 'P02671', 'P02675',\n",
       "       'P02679', 'P02747', 'P02748', 'P02749', 'P02750', 'P02751',\n",
       "       'P02753', 'P02760', 'P02763', 'P02765', 'P02766', 'P02768',\n",
       "       'P02774', 'P02787', 'P02790', 'P04004', 'P04075', 'P04156',\n",
       "       'P04180', 'P04196', 'P04207', 'P04211', 'P04216', 'P04217',\n",
       "       'P04275', 'P04406', 'P04433', 'P05060', 'P05067', 'P05090',\n",
       "       'P05155', 'P05156', 'P05408', 'P05452', 'P05546', 'P06310',\n",
       "       'P06396', 'P06454', 'P06681', 'P06727', 'P07195', 'P07225',\n",
       "       'P07333', 'P07339', 'P07602', 'P07711', 'P07858', 'P07998',\n",
       "       'P08123', 'P08133', 'P08253', 'P08294', 'P08493', 'P08571',\n",
       "       'P08603', 'P08637', 'P08697', 'P09104', 'P09486', 'P09871',\n",
       "       'P10451', 'P10643', 'P10645', 'P10909', 'P11142', 'P11277',\n",
       "       'P12109', 'P13473', 'P13521', 'P13591', 'P13611', 'P13671',\n",
       "       'P13987', 'P14174', 'P14314', 'P14618', 'P16035', 'P16070',\n",
       "       'P16152', 'P16870', 'P17174', 'P17936', 'P18065', 'P19021',\n",
       "       'P19652', 'P19823', 'P19827', 'P20774', 'P20933', 'P23083',\n",
       "       'P23142', 'P24592', 'P25311', 'P27169', 'P30086', 'P31997',\n",
       "       'P35542', 'P36222', 'P36955', 'P36980', 'P39060', 'P40925',\n",
       "       'P41222', 'P43121', 'P43251', 'P43652', 'P49588', 'P49908',\n",
       "       'P51884', 'P54289', 'P55290', 'P61278', 'P61626', 'P61769',\n",
       "       'P61916', 'P80748', 'P98160', 'Q02818', 'Q06481', 'Q08380',\n",
       "       'Q12805', 'Q12841', 'Q12907', 'Q13283', 'Q13332', 'Q13451',\n",
       "       'Q13740', 'Q14118', 'Q14508', 'Q14515', 'Q14624', 'Q15904',\n",
       "       'Q16270', 'Q16610', 'Q562R1', 'Q6UX71', 'Q6UXB8', 'Q6UXD5',\n",
       "       'Q7Z3B1', 'Q7Z5P9', 'Q8IWV7', 'Q8N2S1', 'Q8NBJ4', 'Q8NE71',\n",
       "       'Q92520', 'Q92823', 'Q92876', 'Q96BZ4', 'Q96KN2', 'Q96PD5',\n",
       "       'Q96S96', 'Q99435', 'Q99674', 'Q99832', 'Q99969', 'Q9BY67',\n",
       "       'Q9HDC9', 'Q9NQ79', 'Q9NYU2', 'Q9UBR2', 'Q9UBX5', 'Q9UHG2',\n",
       "       'Q9UNU6', 'Q9Y646', 'Q9Y6R7', 'P01594', 'P02792', 'P32754',\n",
       "       'P60174', 'Q13449', 'Q99683', 'Q99829', 'Q9UKV8'], dtype=object)"
      ]
     },
     "execution_count": 61,
     "metadata": {},
     "output_type": "execute_result"
    }
   ],
   "source": [
    "# 将字典转换为 DataFrame\n",
    "patient_df = pd.DataFrame.from_dict(patient_data).set_index(unique_proteins)\n",
    "\n",
    "# 画出曲线图\n",
    "patient_df.plot()\n",
    "plt.xlabel('Protein')\n",
    "plt.ylabel('Count')\n",
    "plt.show()\n",
    "unique_proteins"
   ]
  },
  {
   "cell_type": "code",
   "execution_count": null,
   "id": "0bafffa9",
   "metadata": {},
   "outputs": [],
   "source": []
  },
  {
   "cell_type": "code",
   "execution_count": 60,
   "id": "bf6e9d68",
   "metadata": {
    "ExecuteTime": {
     "end_time": "2023-04-01T12:57:55.363556Z",
     "start_time": "2023-04-01T12:57:55.315582Z"
    }
   },
   "outputs": [
    {
     "data": {
      "text/html": [
       "<div>\n",
       "<style scoped>\n",
       "    .dataframe tbody tr th:only-of-type {\n",
       "        vertical-align: middle;\n",
       "    }\n",
       "\n",
       "    .dataframe tbody tr th {\n",
       "        vertical-align: top;\n",
       "    }\n",
       "\n",
       "    .dataframe thead th {\n",
       "        text-align: right;\n",
       "    }\n",
       "</style>\n",
       "<table border=\"1\" class=\"dataframe\">\n",
       "  <thead>\n",
       "    <tr style=\"text-align: right;\">\n",
       "      <th>UniProt</th>\n",
       "      <th>O00391</th>\n",
       "      <th>O00533</th>\n",
       "      <th>O00584</th>\n",
       "      <th>O14498</th>\n",
       "      <th>O14773</th>\n",
       "      <th>O14791</th>\n",
       "      <th>O15240</th>\n",
       "      <th>O15394</th>\n",
       "      <th>O43505</th>\n",
       "      <th>O60888</th>\n",
       "      <th>...</th>\n",
       "      <th>Q9HDC9</th>\n",
       "      <th>Q9NQ79</th>\n",
       "      <th>Q9NYU2</th>\n",
       "      <th>Q9UBR2</th>\n",
       "      <th>Q9UBX5</th>\n",
       "      <th>Q9UHG2</th>\n",
       "      <th>Q9UKV8</th>\n",
       "      <th>Q9UNU6</th>\n",
       "      <th>Q9Y646</th>\n",
       "      <th>Q9Y6R7</th>\n",
       "    </tr>\n",
       "    <tr>\n",
       "      <th>visit_id</th>\n",
       "      <th></th>\n",
       "      <th></th>\n",
       "      <th></th>\n",
       "      <th></th>\n",
       "      <th></th>\n",
       "      <th></th>\n",
       "      <th></th>\n",
       "      <th></th>\n",
       "      <th></th>\n",
       "      <th></th>\n",
       "      <th></th>\n",
       "      <th></th>\n",
       "      <th></th>\n",
       "      <th></th>\n",
       "      <th></th>\n",
       "      <th></th>\n",
       "      <th></th>\n",
       "      <th></th>\n",
       "      <th></th>\n",
       "      <th></th>\n",
       "      <th></th>\n",
       "    </tr>\n",
       "  </thead>\n",
       "  <tbody>\n",
       "    <tr>\n",
       "      <th>55_0</th>\n",
       "      <td>1</td>\n",
       "      <td>1</td>\n",
       "      <td>1</td>\n",
       "      <td>1</td>\n",
       "      <td>1</td>\n",
       "      <td>1</td>\n",
       "      <td>1</td>\n",
       "      <td>1</td>\n",
       "      <td>1</td>\n",
       "      <td>1</td>\n",
       "      <td>...</td>\n",
       "      <td>1</td>\n",
       "      <td>1</td>\n",
       "      <td>1</td>\n",
       "      <td>1</td>\n",
       "      <td>1</td>\n",
       "      <td>1</td>\n",
       "      <td>0</td>\n",
       "      <td>1</td>\n",
       "      <td>1</td>\n",
       "      <td>1</td>\n",
       "    </tr>\n",
       "    <tr>\n",
       "      <th>55_12</th>\n",
       "      <td>1</td>\n",
       "      <td>1</td>\n",
       "      <td>1</td>\n",
       "      <td>1</td>\n",
       "      <td>1</td>\n",
       "      <td>1</td>\n",
       "      <td>1</td>\n",
       "      <td>1</td>\n",
       "      <td>1</td>\n",
       "      <td>1</td>\n",
       "      <td>...</td>\n",
       "      <td>1</td>\n",
       "      <td>1</td>\n",
       "      <td>1</td>\n",
       "      <td>1</td>\n",
       "      <td>1</td>\n",
       "      <td>1</td>\n",
       "      <td>1</td>\n",
       "      <td>1</td>\n",
       "      <td>1</td>\n",
       "      <td>1</td>\n",
       "    </tr>\n",
       "    <tr>\n",
       "      <th>55_36</th>\n",
       "      <td>1</td>\n",
       "      <td>1</td>\n",
       "      <td>1</td>\n",
       "      <td>1</td>\n",
       "      <td>1</td>\n",
       "      <td>1</td>\n",
       "      <td>1</td>\n",
       "      <td>1</td>\n",
       "      <td>1</td>\n",
       "      <td>1</td>\n",
       "      <td>...</td>\n",
       "      <td>1</td>\n",
       "      <td>1</td>\n",
       "      <td>1</td>\n",
       "      <td>1</td>\n",
       "      <td>1</td>\n",
       "      <td>1</td>\n",
       "      <td>1</td>\n",
       "      <td>1</td>\n",
       "      <td>1</td>\n",
       "      <td>1</td>\n",
       "    </tr>\n",
       "    <tr>\n",
       "      <th>55_6</th>\n",
       "      <td>1</td>\n",
       "      <td>1</td>\n",
       "      <td>1</td>\n",
       "      <td>1</td>\n",
       "      <td>1</td>\n",
       "      <td>1</td>\n",
       "      <td>1</td>\n",
       "      <td>1</td>\n",
       "      <td>1</td>\n",
       "      <td>1</td>\n",
       "      <td>...</td>\n",
       "      <td>1</td>\n",
       "      <td>1</td>\n",
       "      <td>1</td>\n",
       "      <td>1</td>\n",
       "      <td>1</td>\n",
       "      <td>1</td>\n",
       "      <td>0</td>\n",
       "      <td>1</td>\n",
       "      <td>1</td>\n",
       "      <td>1</td>\n",
       "    </tr>\n",
       "  </tbody>\n",
       "</table>\n",
       "<p>4 rows × 226 columns</p>\n",
       "</div>"
      ],
      "text/plain": [
       "UniProt   O00391  O00533  O00584  O14498  O14773  O14791  O15240  O15394  \\\n",
       "visit_id                                                                   \n",
       "55_0           1       1       1       1       1       1       1       1   \n",
       "55_12          1       1       1       1       1       1       1       1   \n",
       "55_36          1       1       1       1       1       1       1       1   \n",
       "55_6           1       1       1       1       1       1       1       1   \n",
       "\n",
       "UniProt   O43505  O60888  ...  Q9HDC9  Q9NQ79  Q9NYU2  Q9UBR2  Q9UBX5  Q9UHG2  \\\n",
       "visit_id                  ...                                                   \n",
       "55_0           1       1  ...       1       1       1       1       1       1   \n",
       "55_12          1       1  ...       1       1       1       1       1       1   \n",
       "55_36          1       1  ...       1       1       1       1       1       1   \n",
       "55_6           1       1  ...       1       1       1       1       1       1   \n",
       "\n",
       "UniProt   Q9UKV8  Q9UNU6  Q9Y646  Q9Y6R7  \n",
       "visit_id                                  \n",
       "55_0           0       1       1       1  \n",
       "55_12          1       1       1       1  \n",
       "55_36          1       1       1       1  \n",
       "55_6           0       1       1       1  \n",
       "\n",
       "[4 rows x 226 columns]"
      ]
     },
     "execution_count": 60,
     "metadata": {},
     "output_type": "execute_result"
    }
   ],
   "source": [
    "patient_proteins = proteins[proteins['patient_id'] == 55]\n",
    "protein_counts = patient_proteins.groupby(['visit_id', 'UniProt']).size().reset_index(name='count')\n",
    "\n",
    "# 使用 pivot_table 函数将数据透视为一个以 visit_id 为索引，以 UniProt 为列的 DataFrame\n",
    "protein_pivot = protein_counts.pivot_table(values='count', index='visit_id', columns='UniProt', aggfunc=sum, fill_value=0)\n",
    "\n",
    "# 显示透视结果\n",
    "protein_pivot"
   ]
  },
  {
   "cell_type": "code",
   "execution_count": null,
   "id": "43cd5004",
   "metadata": {},
   "outputs": [],
   "source": []
  },
  {
   "cell_type": "code",
   "execution_count": null,
   "id": "cff2915f",
   "metadata": {},
   "outputs": [],
   "source": []
  },
  {
   "cell_type": "code",
   "execution_count": null,
   "id": "47d10ba6",
   "metadata": {},
   "outputs": [],
   "source": []
  },
  {
   "cell_type": "code",
   "execution_count": null,
   "id": "ec91800b",
   "metadata": {},
   "outputs": [],
   "source": []
  },
  {
   "cell_type": "code",
   "execution_count": null,
   "id": "ee33c6ce",
   "metadata": {},
   "outputs": [],
   "source": []
  },
  {
   "cell_type": "code",
   "execution_count": null,
   "id": "87cd58bd",
   "metadata": {},
   "outputs": [],
   "source": []
  },
  {
   "cell_type": "code",
   "execution_count": null,
   "id": "4baa60a1",
   "metadata": {},
   "outputs": [],
   "source": []
  },
  {
   "cell_type": "code",
   "execution_count": null,
   "id": "6638718c",
   "metadata": {},
   "outputs": [],
   "source": []
  },
  {
   "cell_type": "code",
   "execution_count": null,
   "id": "33706415",
   "metadata": {},
   "outputs": [],
   "source": []
  },
  {
   "cell_type": "code",
   "execution_count": null,
   "id": "92fe0406",
   "metadata": {},
   "outputs": [],
   "source": []
  },
  {
   "cell_type": "code",
   "execution_count": null,
   "id": "0bedeb01",
   "metadata": {},
   "outputs": [],
   "source": []
  },
  {
   "cell_type": "code",
   "execution_count": null,
   "id": "a3090f74",
   "metadata": {},
   "outputs": [],
   "source": []
  },
  {
   "cell_type": "code",
   "execution_count": null,
   "id": "71f6fc32",
   "metadata": {},
   "outputs": [],
   "source": []
  },
  {
   "cell_type": "code",
   "execution_count": null,
   "id": "5eda4a36",
   "metadata": {},
   "outputs": [],
   "source": []
  },
  {
   "cell_type": "code",
   "execution_count": null,
   "id": "b76701d5",
   "metadata": {},
   "outputs": [],
   "source": []
  },
  {
   "cell_type": "code",
   "execution_count": null,
   "id": "38d8ce88",
   "metadata": {},
   "outputs": [],
   "source": []
  },
  {
   "cell_type": "code",
   "execution_count": null,
   "id": "36c64b68",
   "metadata": {},
   "outputs": [],
   "source": []
  },
  {
   "cell_type": "code",
   "execution_count": null,
   "id": "adc73a11",
   "metadata": {},
   "outputs": [],
   "source": []
  },
  {
   "cell_type": "code",
   "execution_count": null,
   "id": "e5300707",
   "metadata": {},
   "outputs": [],
   "source": []
  },
  {
   "cell_type": "code",
   "execution_count": null,
   "id": "fafc33b4",
   "metadata": {},
   "outputs": [],
   "source": []
  },
  {
   "cell_type": "code",
   "execution_count": null,
   "id": "80a1ab41",
   "metadata": {},
   "outputs": [],
   "source": []
  },
  {
   "cell_type": "code",
   "execution_count": null,
   "id": "bab1cf28",
   "metadata": {},
   "outputs": [],
   "source": []
  },
  {
   "cell_type": "code",
   "execution_count": null,
   "id": "b3401c17",
   "metadata": {},
   "outputs": [],
   "source": []
  },
  {
   "cell_type": "code",
   "execution_count": null,
   "id": "803ec03e",
   "metadata": {},
   "outputs": [],
   "source": []
  },
  {
   "cell_type": "code",
   "execution_count": null,
   "id": "a93a78b2",
   "metadata": {},
   "outputs": [],
   "source": []
  },
  {
   "cell_type": "code",
   "execution_count": null,
   "id": "384a66c3",
   "metadata": {},
   "outputs": [],
   "source": []
  },
  {
   "cell_type": "code",
   "execution_count": null,
   "id": "a167de61",
   "metadata": {},
   "outputs": [],
   "source": []
  },
  {
   "cell_type": "code",
   "execution_count": null,
   "id": "7c2f5bf7",
   "metadata": {},
   "outputs": [],
   "source": []
  },
  {
   "cell_type": "code",
   "execution_count": null,
   "id": "5198db3f",
   "metadata": {},
   "outputs": [],
   "source": []
  },
  {
   "cell_type": "code",
   "execution_count": null,
   "id": "d6114c5c",
   "metadata": {},
   "outputs": [],
   "source": []
  },
  {
   "cell_type": "code",
   "execution_count": null,
   "id": "91adac9e",
   "metadata": {},
   "outputs": [],
   "source": []
  },
  {
   "cell_type": "code",
   "execution_count": null,
   "id": "76d7d1cd",
   "metadata": {},
   "outputs": [],
   "source": []
  },
  {
   "cell_type": "code",
   "execution_count": null,
   "id": "e2d30f06",
   "metadata": {},
   "outputs": [],
   "source": []
  },
  {
   "cell_type": "code",
   "execution_count": null,
   "id": "a034f39b",
   "metadata": {},
   "outputs": [],
   "source": []
  },
  {
   "cell_type": "code",
   "execution_count": null,
   "id": "7f646140",
   "metadata": {},
   "outputs": [],
   "source": []
  },
  {
   "cell_type": "code",
   "execution_count": null,
   "id": "8340e771",
   "metadata": {},
   "outputs": [],
   "source": []
  },
  {
   "cell_type": "code",
   "execution_count": null,
   "id": "cc6baf61",
   "metadata": {},
   "outputs": [],
   "source": []
  },
  {
   "cell_type": "code",
   "execution_count": null,
   "id": "a731ddd0",
   "metadata": {},
   "outputs": [],
   "source": []
  },
  {
   "cell_type": "code",
   "execution_count": null,
   "id": "cc3b10e8",
   "metadata": {},
   "outputs": [],
   "source": []
  },
  {
   "cell_type": "code",
   "execution_count": null,
   "id": "977558d6",
   "metadata": {},
   "outputs": [],
   "source": []
  },
  {
   "cell_type": "code",
   "execution_count": null,
   "id": "d94d532b",
   "metadata": {},
   "outputs": [],
   "source": []
  },
  {
   "cell_type": "code",
   "execution_count": null,
   "id": "0b8fb34f",
   "metadata": {},
   "outputs": [],
   "source": []
  },
  {
   "cell_type": "code",
   "execution_count": null,
   "id": "1efea000",
   "metadata": {},
   "outputs": [],
   "source": []
  },
  {
   "cell_type": "code",
   "execution_count": null,
   "id": "fc7dbcca",
   "metadata": {},
   "outputs": [],
   "source": []
  },
  {
   "cell_type": "code",
   "execution_count": null,
   "id": "d52dd771",
   "metadata": {},
   "outputs": [],
   "source": []
  },
  {
   "cell_type": "code",
   "execution_count": null,
   "id": "13e0fb57",
   "metadata": {},
   "outputs": [],
   "source": []
  },
  {
   "cell_type": "code",
   "execution_count": null,
   "id": "d2c1c4c7",
   "metadata": {},
   "outputs": [],
   "source": []
  },
  {
   "cell_type": "code",
   "execution_count": null,
   "id": "26037bc4",
   "metadata": {},
   "outputs": [],
   "source": []
  },
  {
   "cell_type": "code",
   "execution_count": 10,
   "id": "19ec3ce4",
   "metadata": {
    "ExecuteTime": {
     "end_time": "2023-04-01T10:35:56.198645Z",
     "start_time": "2023-04-01T10:33:29.194639Z"
    }
   },
   "outputs": [
    {
     "ename": "KeyboardInterrupt",
     "evalue": "",
     "output_type": "error",
     "traceback": [
      "\u001b[0;31m---------------------------------------------------------------------------\u001b[0m",
      "\u001b[0;31mKeyboardInterrupt\u001b[0m                         Traceback (most recent call last)",
      "Cell \u001b[0;32mIn [10], line 11\u001b[0m\n\u001b[1;32m      9\u001b[0m patient_data[patient] \u001b[38;5;241m=\u001b[39m []\n\u001b[1;32m     10\u001b[0m \u001b[38;5;28;01mfor\u001b[39;00m protein \u001b[38;5;129;01min\u001b[39;00m unique_proteins:\n\u001b[0;32m---> 11\u001b[0m     count \u001b[38;5;241m=\u001b[39m proteins[(\u001b[43mproteins\u001b[49m\u001b[43m[\u001b[49m\u001b[38;5;124;43m'\u001b[39;49m\u001b[38;5;124;43mUniProt\u001b[39;49m\u001b[38;5;124;43m'\u001b[39;49m\u001b[43m]\u001b[49m\u001b[43m \u001b[49m\u001b[38;5;241;43m==\u001b[39;49m\u001b[43m \u001b[49m\u001b[43mprotein\u001b[49m) \u001b[38;5;241m&\u001b[39m (proteins[\u001b[38;5;124m'\u001b[39m\u001b[38;5;124mpatient_id\u001b[39m\u001b[38;5;124m'\u001b[39m] \u001b[38;5;241m==\u001b[39m patient)][\u001b[38;5;124m'\u001b[39m\u001b[38;5;124mvisit_id\u001b[39m\u001b[38;5;124m'\u001b[39m]\u001b[38;5;241m.\u001b[39mcount()\n\u001b[1;32m     12\u001b[0m     patient_data[patient]\u001b[38;5;241m.\u001b[39mappend(count)\n",
      "File \u001b[0;32m~/download/conda/miniconda3/envs/zgy/lib/python3.8/site-packages/pandas/core/ops/common.py:72\u001b[0m, in \u001b[0;36m_unpack_zerodim_and_defer.<locals>.new_method\u001b[0;34m(self, other)\u001b[0m\n\u001b[1;32m     68\u001b[0m             \u001b[38;5;28;01mreturn\u001b[39;00m \u001b[38;5;28mNotImplemented\u001b[39m\n\u001b[1;32m     70\u001b[0m other \u001b[38;5;241m=\u001b[39m item_from_zerodim(other)\n\u001b[0;32m---> 72\u001b[0m \u001b[38;5;28;01mreturn\u001b[39;00m \u001b[43mmethod\u001b[49m\u001b[43m(\u001b[49m\u001b[38;5;28;43mself\u001b[39;49m\u001b[43m,\u001b[49m\u001b[43m \u001b[49m\u001b[43mother\u001b[49m\u001b[43m)\u001b[49m\n",
      "File \u001b[0;32m~/download/conda/miniconda3/envs/zgy/lib/python3.8/site-packages/pandas/core/arraylike.py:42\u001b[0m, in \u001b[0;36mOpsMixin.__eq__\u001b[0;34m(self, other)\u001b[0m\n\u001b[1;32m     40\u001b[0m \u001b[38;5;129m@unpack_zerodim_and_defer\u001b[39m(\u001b[38;5;124m\"\u001b[39m\u001b[38;5;124m__eq__\u001b[39m\u001b[38;5;124m\"\u001b[39m)\n\u001b[1;32m     41\u001b[0m \u001b[38;5;28;01mdef\u001b[39;00m \u001b[38;5;21m__eq__\u001b[39m(\u001b[38;5;28mself\u001b[39m, other):\n\u001b[0;32m---> 42\u001b[0m     \u001b[38;5;28;01mreturn\u001b[39;00m \u001b[38;5;28;43mself\u001b[39;49m\u001b[38;5;241;43m.\u001b[39;49m\u001b[43m_cmp_method\u001b[49m\u001b[43m(\u001b[49m\u001b[43mother\u001b[49m\u001b[43m,\u001b[49m\u001b[43m \u001b[49m\u001b[43moperator\u001b[49m\u001b[38;5;241;43m.\u001b[39;49m\u001b[43meq\u001b[49m\u001b[43m)\u001b[49m\n",
      "File \u001b[0;32m~/download/conda/miniconda3/envs/zgy/lib/python3.8/site-packages/pandas/core/series.py:6243\u001b[0m, in \u001b[0;36mSeries._cmp_method\u001b[0;34m(self, other, op)\u001b[0m\n\u001b[1;32m   6240\u001b[0m rvalues \u001b[38;5;241m=\u001b[39m extract_array(other, extract_numpy\u001b[38;5;241m=\u001b[39m\u001b[38;5;28;01mTrue\u001b[39;00m, extract_range\u001b[38;5;241m=\u001b[39m\u001b[38;5;28;01mTrue\u001b[39;00m)\n\u001b[1;32m   6242\u001b[0m \u001b[38;5;28;01mwith\u001b[39;00m np\u001b[38;5;241m.\u001b[39merrstate(\u001b[38;5;28mall\u001b[39m\u001b[38;5;241m=\u001b[39m\u001b[38;5;124m\"\u001b[39m\u001b[38;5;124mignore\u001b[39m\u001b[38;5;124m\"\u001b[39m):\n\u001b[0;32m-> 6243\u001b[0m     res_values \u001b[38;5;241m=\u001b[39m \u001b[43mops\u001b[49m\u001b[38;5;241;43m.\u001b[39;49m\u001b[43mcomparison_op\u001b[49m\u001b[43m(\u001b[49m\u001b[43mlvalues\u001b[49m\u001b[43m,\u001b[49m\u001b[43m \u001b[49m\u001b[43mrvalues\u001b[49m\u001b[43m,\u001b[49m\u001b[43m \u001b[49m\u001b[43mop\u001b[49m\u001b[43m)\u001b[49m\n\u001b[1;32m   6245\u001b[0m \u001b[38;5;28;01mreturn\u001b[39;00m \u001b[38;5;28mself\u001b[39m\u001b[38;5;241m.\u001b[39m_construct_result(res_values, name\u001b[38;5;241m=\u001b[39mres_name)\n",
      "File \u001b[0;32m~/download/conda/miniconda3/envs/zgy/lib/python3.8/site-packages/pandas/core/ops/array_ops.py:287\u001b[0m, in \u001b[0;36mcomparison_op\u001b[0;34m(left, right, op)\u001b[0m\n\u001b[1;32m    284\u001b[0m     \u001b[38;5;28;01mreturn\u001b[39;00m invalid_comparison(lvalues, rvalues, op)\n\u001b[1;32m    286\u001b[0m \u001b[38;5;28;01melif\u001b[39;00m is_object_dtype(lvalues\u001b[38;5;241m.\u001b[39mdtype) \u001b[38;5;129;01mor\u001b[39;00m \u001b[38;5;28misinstance\u001b[39m(rvalues, \u001b[38;5;28mstr\u001b[39m):\n\u001b[0;32m--> 287\u001b[0m     res_values \u001b[38;5;241m=\u001b[39m \u001b[43mcomp_method_OBJECT_ARRAY\u001b[49m\u001b[43m(\u001b[49m\u001b[43mop\u001b[49m\u001b[43m,\u001b[49m\u001b[43m \u001b[49m\u001b[43mlvalues\u001b[49m\u001b[43m,\u001b[49m\u001b[43m \u001b[49m\u001b[43mrvalues\u001b[49m\u001b[43m)\u001b[49m\n\u001b[1;32m    289\u001b[0m \u001b[38;5;28;01melse\u001b[39;00m:\n\u001b[1;32m    290\u001b[0m     res_values \u001b[38;5;241m=\u001b[39m _na_arithmetic_op(lvalues, rvalues, op, is_cmp\u001b[38;5;241m=\u001b[39m\u001b[38;5;28;01mTrue\u001b[39;00m)\n",
      "File \u001b[0;32m~/download/conda/miniconda3/envs/zgy/lib/python3.8/site-packages/pandas/core/ops/array_ops.py:75\u001b[0m, in \u001b[0;36mcomp_method_OBJECT_ARRAY\u001b[0;34m(op, x, y)\u001b[0m\n\u001b[1;32m     73\u001b[0m     result \u001b[38;5;241m=\u001b[39m libops\u001b[38;5;241m.\u001b[39mvec_compare(x\u001b[38;5;241m.\u001b[39mravel(), y\u001b[38;5;241m.\u001b[39mravel(), op)\n\u001b[1;32m     74\u001b[0m \u001b[38;5;28;01melse\u001b[39;00m:\n\u001b[0;32m---> 75\u001b[0m     result \u001b[38;5;241m=\u001b[39m \u001b[43mlibops\u001b[49m\u001b[38;5;241;43m.\u001b[39;49m\u001b[43mscalar_compare\u001b[49m\u001b[43m(\u001b[49m\u001b[43mx\u001b[49m\u001b[38;5;241;43m.\u001b[39;49m\u001b[43mravel\u001b[49m\u001b[43m(\u001b[49m\u001b[43m)\u001b[49m\u001b[43m,\u001b[49m\u001b[43m \u001b[49m\u001b[43my\u001b[49m\u001b[43m,\u001b[49m\u001b[43m \u001b[49m\u001b[43mop\u001b[49m\u001b[43m)\u001b[49m\n\u001b[1;32m     76\u001b[0m \u001b[38;5;28;01mreturn\u001b[39;00m result\u001b[38;5;241m.\u001b[39mreshape(x\u001b[38;5;241m.\u001b[39mshape)\n",
      "\u001b[0;31mKeyboardInterrupt\u001b[0m: "
     ]
    }
   ],
   "source": [
    "# 创建一个空字典来存储每个病人的数据\n",
    "patient_data = {}\n",
    "\n",
    "# 获取独特的病人 ID\n",
    "unique_patients = proteins['patient_id'].unique()\n",
    "\n",
    "# 计算每个病人的数据\n",
    "for patient in unique_patients:\n",
    "    patient_data[patient] = []\n",
    "    for protein in unique_proteins:\n",
    "        count = proteins[(proteins['UniProt'] == protein) & (proteins['patient_id'] == patient)]['visit_id'].count()\n",
    "        patient_data[patient].append(count)"
   ]
  },
  {
   "cell_type": "code",
   "execution_count": null,
   "id": "3e62f67e",
   "metadata": {},
   "outputs": [],
   "source": []
  },
  {
   "cell_type": "code",
   "execution_count": null,
   "id": "711948a0",
   "metadata": {},
   "outputs": [],
   "source": []
  },
  {
   "cell_type": "code",
   "execution_count": null,
   "id": "e55670fa",
   "metadata": {},
   "outputs": [],
   "source": []
  }
 ],
 "metadata": {
  "kernelspec": {
   "display_name": "Python 3 (ipykernel)",
   "language": "python",
   "name": "python3"
  },
  "language_info": {
   "codemirror_mode": {
    "name": "ipython",
    "version": 3
   },
   "file_extension": ".py",
   "mimetype": "text/x-python",
   "name": "python",
   "nbconvert_exporter": "python",
   "pygments_lexer": "ipython3",
   "version": "3.8.13"
  }
 },
 "nbformat": 4,
 "nbformat_minor": 5
}
