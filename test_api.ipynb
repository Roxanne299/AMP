{
 "cells": [
  {
   "cell_type": "code",
   "execution_count": 1,
   "id": "db4c665e",
   "metadata": {
    "ExecuteTime": {
     "end_time": "2023-03-22T06:32:50.633852Z",
     "start_time": "2023-03-22T06:32:50.285178Z"
    }
   },
   "outputs": [
    {
     "name": "stdout",
     "output_type": "stream",
     "text": [
      "          visit_id  visit_month  patient_id updrs_test           row_id\n",
      "group_key                                                              \n",
      "0           3342_0            0        3342    updrs_1   3342_0_updrs_1\n",
      "0           3342_0            0        3342    updrs_2   3342_0_updrs_2\n",
      "0           3342_0            0        3342    updrs_3   3342_0_updrs_3\n",
      "0           3342_0            0        3342    updrs_4   3342_0_updrs_4\n",
      "0          50423_0            0       50423    updrs_1  50423_0_updrs_1\n",
      "          visit_id  visit_month  patient_id UniProt  \\\n",
      "group_key                                             \n",
      "0          50423_0            0       50423  O00391   \n",
      "0          50423_0            0       50423  O00391   \n",
      "0          50423_0            0       50423  O00533   \n",
      "0          50423_0            0       50423  O00533   \n",
      "0          50423_0            0       50423  O00533   \n",
      "\n",
      "                                          Peptide  PeptideAbundance  \n",
      "group_key                                                            \n",
      "0                            AHFSPSNIILDFPAAGSAAR           22226.3  \n",
      "0                                   NEQEQPLGQWHLS           10901.6  \n",
      "0                                     GNPEPTFSWTK           51499.4  \n",
      "0                                 IEIPSSVQQVPTIIK          125492.0  \n",
      "0          KPQSAVYSTGSNGILLC(UniMod_4)EAEGEPQPTIK           23174.2  \n",
      "          visit_id  visit_month  patient_id UniProt        NPX\n",
      "group_key                                                     \n",
      "0          50423_0            0       50423  O00391   33127.90\n",
      "0          50423_0            0       50423  O00533  490742.00\n",
      "0          50423_0            0       50423  O00584   43615.30\n",
      "0          50423_0            0       50423  O14773   16486.60\n",
      "0          50423_0            0       50423  O14791    2882.42\n",
      "                           prediction_id  rating\n",
      "group_key                                       \n",
      "0           3342_0_updrs_1_plus_0_months       0\n",
      "0           3342_0_updrs_1_plus_6_months       0\n",
      "0          3342_0_updrs_1_plus_12_months       0\n",
      "0          3342_0_updrs_1_plus_24_months       0\n",
      "0           3342_0_updrs_2_plus_0_months       0\n"
     ]
    }
   ],
   "source": [
    "import public_timeseries_testing_util\n",
    "\n",
    "env = public_timeseries_testing_util.make_env()\n",
    "iter_test = env.iter_test()\n",
    "\n",
    "counter = 0\n",
    "# The API will deliver four dataframes in this specific order:\n",
    "for (test, test_peptides, test_proteins, sample_submission) in iter_test:\n",
    "    if counter == 0:\n",
    "        print(test.head())\n",
    "        print(test_peptides.head())\n",
    "        print(test_proteins.head())\n",
    "        print(sample_submission.head())\n",
    "        sample_submission['rating'] = 0\n",
    "    env.predict(sample_submission)\n",
    "    counter += 1"
   ]
  },
  {
   "cell_type": "code",
   "execution_count": null,
   "id": "52b25e2a",
   "metadata": {},
   "outputs": [],
   "source": []
  }
 ],
 "metadata": {
  "kernelspec": {
   "display_name": "Python 3 (ipykernel)",
   "language": "python",
   "name": "python3"
  },
  "language_info": {
   "codemirror_mode": {
    "name": "ipython",
    "version": 3
   },
   "file_extension": ".py",
   "mimetype": "text/x-python",
   "name": "python",
   "nbconvert_exporter": "python",
   "pygments_lexer": "ipython3",
   "version": "3.8.13"
  }
 },
 "nbformat": 4,
 "nbformat_minor": 5
}
